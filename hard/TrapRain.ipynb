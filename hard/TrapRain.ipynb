{
 "cells": [
  {
   "cell_type": "code",
   "execution_count": 2,
   "id": "a1c69f48",
   "metadata": {},
   "outputs": [
    {
     "data": {
      "text/plain": [
       "9"
      ]
     },
     "execution_count": 2,
     "metadata": {},
     "output_type": "execute_result"
    }
   ],
   "source": [
    "from typing import List\n",
    "class Solution:\n",
    "    def trap(self, height: List[int]) -> int:\n",
    "        if not height:\n",
    "            return 0\n",
    "        \n",
    "        l = 0\n",
    "        r = len(height) - 1\n",
    "\n",
    "        maxl = height[0]\n",
    "        maxr = height[r]\n",
    "        res = 0\n",
    "\n",
    "        while l < r:\n",
    "            if maxl < maxr:\n",
    "                l += 1\n",
    "                maxl = max(maxl, height[l])\n",
    "                res += maxl - height[l]\n",
    "            else:\n",
    "                r -= 1\n",
    "                maxr = max(maxr, height[r])\n",
    "                res += maxr - height[r]\n",
    "        \n",
    "        return res\n",
    "    \n",
    "sol = Solution()\n",
    "sol.trap([0, 2, 0, 3, 1, 0, 1, 3, 2, 1])\n"
   ]
  },
  {
   "cell_type": "code",
   "execution_count": null,
   "id": "906b89e4",
   "metadata": {},
   "outputs": [],
   "source": []
  }
 ],
 "metadata": {
  "kernelspec": {
   "display_name": "Python 3",
   "language": "python",
   "name": "python3"
  },
  "language_info": {
   "codemirror_mode": {
    "name": "ipython",
    "version": 3
   },
   "file_extension": ".py",
   "mimetype": "text/x-python",
   "name": "python",
   "nbconvert_exporter": "python",
   "pygments_lexer": "ipython3",
   "version": "3.12.1"
  }
 },
 "nbformat": 4,
 "nbformat_minor": 5
}

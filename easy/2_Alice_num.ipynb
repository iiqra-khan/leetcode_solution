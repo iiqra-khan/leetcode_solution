{
 "cells": [
  {
   "cell_type": "code",
   "execution_count": 6,
   "id": "4dadf646",
   "metadata": {},
   "outputs": [
    {
     "name": "stdout",
     "output_type": "stream",
     "text": [
      "4\n",
      "16\n"
     ]
    }
   ],
   "source": [
    "# Enter your code here. Read input from STDIN. Print output to STDOUT\n",
    "def prime(n):\n",
    "    num = 1\n",
    "    for _ in range(n):\n",
    "        for i in range(2, num-1):\n",
    "            if num%i != 0 and num%1 == 0:\n",
    "                continue\n",
    "            else:\n",
    "                break\n",
    "        num += 1\n",
    "    print(num)\n",
    "    return num\n",
    "\n",
    "print(prime(3)**2)"
   ]
  },
  {
   "cell_type": "code",
   "execution_count": null,
   "id": "64929c42",
   "metadata": {},
   "outputs": [],
   "source": [
    "num = 2\n",
    "for i in range(num):\n",
    "    pass"
   ]
  },
  {
   "cell_type": "code",
   "execution_count": null,
   "id": "95831dcf",
   "metadata": {},
   "outputs": [],
   "source": [
    "def prime(n):\n",
    "    num = 2\n",
    "    count = 0\n",
    "    for i in range(n):\n",
    "        for j in range(num):\n",
    "            if num%i == 0:\n",
    "                count = count + 1\n",
    "    \n"
   ]
  }
 ],
 "metadata": {
  "kernelspec": {
   "display_name": "Python 3",
   "language": "python",
   "name": "python3"
  },
  "language_info": {
   "codemirror_mode": {
    "name": "ipython",
    "version": 3
   },
   "file_extension": ".py",
   "mimetype": "text/x-python",
   "name": "python",
   "nbconvert_exporter": "python",
   "pygments_lexer": "ipython3",
   "version": "3.12.1"
  }
 },
 "nbformat": 4,
 "nbformat_minor": 5
}

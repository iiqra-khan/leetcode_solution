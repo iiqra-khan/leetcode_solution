{
 "cells": [
  {
   "cell_type": "code",
   "execution_count": 24,
   "id": "6eaec8a5",
   "metadata": {},
   "outputs": [
    {
     "data": {
      "text/plain": [
       "True"
      ]
     },
     "execution_count": 24,
     "metadata": {},
     "output_type": "execute_result"
    }
   ],
   "source": [
    "class Solution:\n",
    "    def isPalindrome(self, s: str) -> bool:\n",
    "        s = s.replace(\" \", \"\").lower()\n",
    "        left = 0\n",
    "        right = len(s) - 1\n",
    "        while left < right:\n",
    "            while left <right and not s[left].isalnum():\n",
    "                left += 1\n",
    "            while right > left and not s[right].isalnum():\n",
    "                right -=1\n",
    "            if s[left] !=  s[right]:\n",
    "                return False\n",
    "            left +=1\n",
    "            right -=1\n",
    "        return True\n",
    "            \n",
    "\n",
    "sol = Solution()\n",
    "sol.isPalindrome(\".,\")"
   ]
  },
  {
   "cell_type": "code",
   "execution_count": 17,
   "id": "ad7ebb68",
   "metadata": {},
   "outputs": [],
   "source": [
    "# "
   ]
  },
  {
   "cell_type": "code",
   "execution_count": null,
   "id": "e4c04158",
   "metadata": {},
   "outputs": [],
   "source": []
  }
 ],
 "metadata": {
  "kernelspec": {
   "display_name": "Python 3",
   "language": "python",
   "name": "python3"
  },
  "language_info": {
   "codemirror_mode": {
    "name": "ipython",
    "version": 3
   },
   "file_extension": ".py",
   "mimetype": "text/x-python",
   "name": "python",
   "nbconvert_exporter": "python",
   "pygments_lexer": "ipython3",
   "version": "3.12.1"
  }
 },
 "nbformat": 4,
 "nbformat_minor": 5
}

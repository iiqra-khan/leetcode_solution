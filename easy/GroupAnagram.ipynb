{
 "cells": [
  {
   "cell_type": "code",
   "execution_count": 32,
   "id": "f25f9354",
   "metadata": {},
   "outputs": [
    {
     "data": {
      "text/plain": [
       "[['act', 'cat'], ['pots', 'tops', 'stop'], ['hat']]"
      ]
     },
     "execution_count": 32,
     "metadata": {},
     "output_type": "execute_result"
    }
   ],
   "source": [
    "from typing import List\n",
    "\n",
    "\n",
    "class Solution:\n",
    "    def groupAnagrams(self, strs: List[str]) -> List[List[str]]:\n",
    "        output = []\n",
    "        hashmap = {}\n",
    "        for i, n in enumerate(strs):\n",
    "            # if n not in hashmap.items():\n",
    "            hashmap.setdefault(''.join(sorted(n)), []).append(n)\n",
    "        for i in hashmap:\n",
    "            output.append(hashmap[i])\n",
    "        return output\n",
    "\n",
    "\n",
    "sol = Solution().groupAnagrams([\"act\",\"pots\",\"tops\",\"cat\",\"stop\",\"hat\"])\n",
    "sol\n",
    "\n",
    "            \n"
   ]
  },
  {
   "cell_type": "markdown",
   "id": "b3430bce",
   "metadata": {},
   "source": [
    "### Optimized Code"
   ]
  },
  {
   "cell_type": "code",
   "execution_count": 33,
   "id": "30162eae",
   "metadata": {},
   "outputs": [],
   "source": [
    "from collections import defaultdict\n",
    "from typing import List\n",
    "\n",
    "class Solution:\n",
    "    def groupAnagrams(self, strs: List[str]) -> List[List[str]]:\n",
    "        hashmap = defaultdict(list)\n",
    "        \n",
    "        for s in strs:\n",
    "            # count frequency of each character\n",
    "            count = [0] * 26\n",
    "            for c in s:\n",
    "                count[ord(c) - ord('a')] += 1\n",
    "            # use tuple as key\n",
    "            hashmap[tuple(count)].append(s)\n",
    "        \n",
    "        return list(hashmap.values())\n"
   ]
  },
  {
   "cell_type": "code",
   "execution_count": null,
   "id": "7f2455c9",
   "metadata": {},
   "outputs": [],
   "source": []
  }
 ],
 "metadata": {
  "kernelspec": {
   "display_name": "Python 3",
   "language": "python",
   "name": "python3"
  },
  "language_info": {
   "codemirror_mode": {
    "name": "ipython",
    "version": 3
   },
   "file_extension": ".py",
   "mimetype": "text/x-python",
   "name": "python",
   "nbconvert_exporter": "python",
   "pygments_lexer": "ipython3",
   "version": "3.12.1"
  }
 },
 "nbformat": 4,
 "nbformat_minor": 5
}

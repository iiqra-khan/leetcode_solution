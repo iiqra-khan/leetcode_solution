{
 "cells": [
  {
   "cell_type": "code",
   "execution_count": 8,
   "id": "05ff716e",
   "metadata": {},
   "outputs": [
    {
     "data": {
      "text/plain": [
       "True"
      ]
     },
     "execution_count": 8,
     "metadata": {},
     "output_type": "execute_result"
    }
   ],
   "source": [
    "class Solution:\n",
    "    def isAnagram(self, s: str, t: str) -> bool:\n",
    "        s = s.lower()\n",
    "        t = t.lower()\n",
    "        if sorted(t) == sorted(s):\n",
    "            return True\n",
    "        return False\n",
    "    \n",
    "    def anaHash(self, s: str, t: str) -> bool:\n",
    "        if len(s) != len(t):\n",
    "            return False\n",
    "        count_s, count_t = {}, {}\n",
    "\n",
    "        for i in range(len(s)):\n",
    "            count_s[s[i]] = 1 + count_s.get(s[i], 0)\n",
    "            count_t[t[i]] = 1 + count_t.get(t[i], 0)\n",
    "        return count_s == count_t\n",
    "\n",
    "sol = Solution()\n",
    "# sol.isAnagram(s = \"racecar\", t = \"carrace\")\n",
    "sol.anaHash(s = \"racecar\", t = \"carrace\")"
   ]
  },
  {
   "cell_type": "markdown",
   "id": "b79013be",
   "metadata": {},
   "source": [
    "#### Using Hash Map"
   ]
  },
  {
   "cell_type": "markdown",
   "id": "bdbabcee",
   "metadata": {},
   "source": []
  }
 ],
 "metadata": {
  "kernelspec": {
   "display_name": "Python 3",
   "language": "python",
   "name": "python3"
  },
  "language_info": {
   "codemirror_mode": {
    "name": "ipython",
    "version": 3
   },
   "file_extension": ".py",
   "mimetype": "text/x-python",
   "name": "python",
   "nbconvert_exporter": "python",
   "pygments_lexer": "ipython3",
   "version": "3.12.1"
  }
 },
 "nbformat": 4,
 "nbformat_minor": 5
}

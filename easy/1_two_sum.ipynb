{
 "cells": [
  {
   "cell_type": "code",
   "execution_count": null,
   "id": "ef45aea1",
   "metadata": {},
   "outputs": [
    {
     "data": {
      "text/plain": [
       "[1, 3]"
      ]
     },
     "execution_count": 1,
     "metadata": {},
     "output_type": "execute_result"
    }
   ],
   "source": [
    "# Problem: Two Sum (leetcode)\n",
    "# Difficulty: Easy\n",
    "class Solution:\n",
    "    def twoSum(self, nums, target):\n",
    "        for i in range(len(nums) - 1):\n",
    "            for j in range(1, len(nums)):\n",
    "                if (nums[i] + nums[j]) == target and i != j:\n",
    "                    return [i,j]\n",
    "                \n",
    "sol = Solution()\n",
    "sol.twoSum([2, 4, 7, 6], 10)"
   ]
  },
  {
   "cell_type": "code",
   "execution_count": null,
   "id": "b5266c21",
   "metadata": {},
   "outputs": [],
   "source": []
  }
 ],
 "metadata": {
  "kernelspec": {
   "display_name": "Python 3",
   "language": "python",
   "name": "python3"
  },
  "language_info": {
   "codemirror_mode": {
    "name": "ipython",
    "version": 3
   },
   "file_extension": ".py",
   "mimetype": "text/x-python",
   "name": "python",
   "nbconvert_exporter": "python",
   "pygments_lexer": "ipython3",
   "version": "3.12.1"
  }
 },
 "nbformat": 4,
 "nbformat_minor": 5
}

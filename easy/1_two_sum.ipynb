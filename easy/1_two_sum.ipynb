{
 "cells": [
  {
   "cell_type": "code",
   "execution_count": null,
   "id": "ef45aea1",
   "metadata": {},
   "outputs": [
    {
     "data": {
      "text/plain": [
       "[1, 3]"
      ]
     },
     "execution_count": 1,
     "metadata": {},
     "output_type": "execute_result"
    }
   ],
   "source": [
    "# Problem: Two Sum (leetcode)\n",
    "# Difficulty: Easy\n",
    "class Solution:\n",
    "    def twoSum(self, nums, target):\n",
    "        for i in range(len(nums) - 1):\n",
    "            for j in range(1, len(nums)):\n",
    "                if (nums[i] + nums[j]) == target and i != j:\n",
    "                    return [i,j]\n",
    "                \n",
    "sol = Solution()\n",
    "sol.twoSum([2, 4, 7, 6], 10)"
   ]
  },
  {
   "cell_type": "code",
   "execution_count": 6,
   "id": "b5266c21",
   "metadata": {},
   "outputs": [
    {
     "name": "stdout",
     "output_type": "stream",
     "text": [
      "diff:  7\n",
      "Prev:  {4: 0}\n",
      "diff:  6\n",
      "Prev:  {4: 0, 5: 1}\n",
      "diff:  5\n"
     ]
    },
    {
     "data": {
      "text/plain": [
       "[1, 2]"
      ]
     },
     "execution_count": 6,
     "metadata": {},
     "output_type": "execute_result"
    }
   ],
   "source": [
    "# Problem: Two Sum (leetcode)\n",
    "# Difficulty: Easy\n",
    "# Using Hash Map\n",
    "class Solution:\n",
    "    def twoSum(self, nums, target):\n",
    "        prevMap = {}\n",
    "\n",
    "        for i, n in enumerate(nums):\n",
    "            diff = target - n\n",
    "            print(\"diff: \", diff)\n",
    "            if diff in prevMap:\n",
    "                return [prevMap[diff], i]\n",
    "            prevMap[n] = i\n",
    "            print(\"Prev: \", prevMap)\n",
    "                \n",
    "\n",
    "sol = Solution()\n",
    "sol.twoSum([4, 5, 6], 11)"
   ]
  },
  {
   "cell_type": "code",
   "execution_count": 7,
   "id": "b5bb62c7",
   "metadata": {},
   "outputs": [
    {
     "name": "stdout",
     "output_type": "stream",
     "text": [
      "7\n",
      "output:  {4: 0}\n",
      "6\n",
      "output:  {4: 0, 5: 1}\n",
      "5\n"
     ]
    },
    {
     "data": {
      "text/plain": [
       "[1, 2]"
      ]
     },
     "execution_count": 7,
     "metadata": {},
     "output_type": "execute_result"
    }
   ],
   "source": [
    "from typing import List\n",
    "class Solution:\n",
    "    def twoSum(self, nums: List[int], target: int) -> List[int]:\n",
    "        output = {}\n",
    "\n",
    "        for i in range(len(nums)):\n",
    "            difference = target - nums[i]\n",
    "            print(difference)\n",
    "            if difference in output:\n",
    "                return [output[difference], i]\n",
    "            output[nums[i]] = i\n",
    "            print(\"output: \", output)\n",
    "\n",
    "\n",
    "sol = Solution()\n",
    "sol.twoSum([4, 5, 6], 11)"
   ]
  },
  {
   "cell_type": "code",
   "execution_count": null,
   "id": "df6dd2e9",
   "metadata": {},
   "outputs": [],
   "source": []
  }
 ],
 "metadata": {
  "kernelspec": {
   "display_name": "Python 3",
   "language": "python",
   "name": "python3"
  },
  "language_info": {
   "codemirror_mode": {
    "name": "ipython",
    "version": 3
   },
   "file_extension": ".py",
   "mimetype": "text/x-python",
   "name": "python",
   "nbconvert_exporter": "python",
   "pygments_lexer": "ipython3",
   "version": "3.12.1"
  }
 },
 "nbformat": 4,
 "nbformat_minor": 5
}

{
 "cells": [
  {
   "cell_type": "code",
   "execution_count": 6,
   "id": "4f32c9c9",
   "metadata": {},
   "outputs": [
    {
     "name": "stdout",
     "output_type": "stream",
     "text": [
      "Res:  {'p'}\n",
      "Res:  {'w', 'p'}\n",
      "Res:  {'w', 'p'}\n",
      "Res:  {'w', 'p'}\n",
      "Res:  {'w', 'p'}\n",
      "Res:  {'w', 'p'}\n",
      "Res:  {'w', 'p'}\n"
     ]
    },
    {
     "data": {
      "text/plain": [
       "2"
      ]
     },
     "execution_count": 6,
     "metadata": {},
     "output_type": "execute_result"
    }
   ],
   "source": [
    "class Solution:\n",
    "    def lengthOfLongestSubstring(self, s: str) -> int:\n",
    "        l = 0\n",
    "        r = 1\n",
    "        res = set()\n",
    "\n",
    "        while r < len(s):\n",
    "            if s[l] not in res:\n",
    "                res.add(s[l])\n",
    "                l += 1\n",
    "            else:\n",
    "                r += 1\n",
    "            print(\"Res: \", res)\n",
    "        return len(res)\n",
    "\n",
    "\n",
    "sol = Solution()\n",
    "sol.lengthOfLongestSubstring('pwwkew')"
   ]
  },
  {
   "cell_type": "code",
   "execution_count": null,
   "id": "449c7578",
   "metadata": {},
   "outputs": [],
   "source": []
  }
 ],
 "metadata": {
  "kernelspec": {
   "display_name": "Python 3",
   "language": "python",
   "name": "python3"
  },
  "language_info": {
   "codemirror_mode": {
    "name": "ipython",
    "version": 3
   },
   "file_extension": ".py",
   "mimetype": "text/x-python",
   "name": "python",
   "nbconvert_exporter": "python",
   "pygments_lexer": "ipython3",
   "version": "3.12.1"
  }
 },
 "nbformat": 4,
 "nbformat_minor": 5
}

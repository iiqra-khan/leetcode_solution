{
 "cells": [
  {
   "cell_type": "code",
   "execution_count": 33,
   "id": "a08e8a61",
   "metadata": {},
   "outputs": [
    {
     "name": "stdout",
     "output_type": "stream",
     "text": [
      "Num 1\n",
      "Num + length 2\n",
      "Num + length 3\n",
      "Num + length 4\n",
      "Longest:  4\n",
      "Num 7\n",
      "Longest:  4\n"
     ]
    },
    {
     "data": {
      "text/plain": [
       "4"
      ]
     },
     "execution_count": 33,
     "metadata": {},
     "output_type": "execute_result"
    }
   ],
   "source": [
    "class Solution:\n",
    "    def longestConsecutive(self, nums: List[int]) -> int:\n",
    "        numSet = set(nums)\n",
    "        longest = 0\n",
    "\n",
    "        for num in numSet:\n",
    "            if (num - 1) not in numSet:\n",
    "                length = 1\n",
    "                print(\"Num\", num)\n",
    "                while (num + length) in numSet:\n",
    "                    print(\"Num + length\", num + length)\n",
    "                    length += 1\n",
    "                longest = max(length, longest)\n",
    "                print(\"Longest: \", longest)\n",
    "        return longest\n",
    "    \n",
    "sol = Solution()\n",
    "sol.longestConsecutive([1, 2, 3, 4, 7])"
   ]
  },
  {
   "cell_type": "code",
   "execution_count": null,
   "id": "c8debe34",
   "metadata": {},
   "outputs": [],
   "source": []
  }
 ],
 "metadata": {
  "kernelspec": {
   "display_name": "Python 3",
   "language": "python",
   "name": "python3"
  },
  "language_info": {
   "codemirror_mode": {
    "name": "ipython",
    "version": 3
   },
   "file_extension": ".py",
   "mimetype": "text/x-python",
   "name": "python",
   "nbconvert_exporter": "python",
   "pygments_lexer": "ipython3",
   "version": "3.12.1"
  }
 },
 "nbformat": 4,
 "nbformat_minor": 5
}

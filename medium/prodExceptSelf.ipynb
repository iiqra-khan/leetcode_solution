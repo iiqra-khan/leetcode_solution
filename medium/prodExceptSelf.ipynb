{
 "cells": [
  {
   "cell_type": "code",
   "execution_count": 23,
   "id": "ac658280",
   "metadata": {},
   "outputs": [
    {
     "data": {
      "text/plain": [
       "[24, 12, 8, 6]"
      ]
     },
     "execution_count": 23,
     "metadata": {},
     "output_type": "execute_result"
    }
   ],
   "source": [
    "from typing import List\n",
    "\n",
    "class Solution:\n",
    "    def productExceptSelf(self, nums: List[int]) -> List[int]:\n",
    "        output = [0 for x in nums]\n",
    "        pre = 1\n",
    "        for i in range(len(nums)):\n",
    "            output[i] = pre\n",
    "            pre = pre * nums[i]\n",
    "        post = 1\n",
    "        for i in range(len(nums) - 1, -1, -1):\n",
    "            output[i] = output[i] * post\n",
    "            post = post * nums[i]\n",
    "        return output\n",
    "\n",
    "\n",
    "sol = Solution()\n",
    "sol.productExceptSelf([1, 2, 3, 4])"
   ]
  },
  {
   "cell_type": "code",
   "execution_count": null,
   "id": "d2d95e2c",
   "metadata": {},
   "outputs": [],
   "source": []
  }
 ],
 "metadata": {
  "kernelspec": {
   "display_name": "Python 3",
   "language": "python",
   "name": "python3"
  },
  "language_info": {
   "codemirror_mode": {
    "name": "ipython",
    "version": 3
   },
   "file_extension": ".py",
   "mimetype": "text/x-python",
   "name": "python",
   "nbconvert_exporter": "python",
   "pygments_lexer": "ipython3",
   "version": "3.12.1"
  }
 },
 "nbformat": 4,
 "nbformat_minor": 5
}

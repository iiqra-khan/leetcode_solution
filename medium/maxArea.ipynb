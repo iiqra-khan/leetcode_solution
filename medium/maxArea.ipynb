{
 "cells": [
  {
   "cell_type": "code",
   "execution_count": 3,
   "id": "456a2817",
   "metadata": {},
   "outputs": [
    {
     "name": "stdout",
     "output_type": "stream",
     "text": [
      "Area 4 res 4 l:  0 b:  2 r:  2\n",
      "Area 2 res 4 l:  1 b:  1 r:  2\n",
      "4 \n",
      "\n",
      "Area 7 res 7 l:  0 b:  7 r:  7\n",
      "Area 36 res 36 l:  1 b:  6 r:  7\n",
      "Area 15 res 36 l:  1 b:  5 r:  6\n",
      "Area 28 res 36 l:  1 b:  4 r:  5\n",
      "Area 6 res 36 l:  2 b:  3 r:  5\n",
      "Area 10 res 36 l:  3 b:  2 r:  5\n",
      "Area 4 res 36 l:  4 b:  1 r:  5\n"
     ]
    },
    {
     "data": {
      "text/plain": [
       "36"
      ]
     },
     "execution_count": 3,
     "metadata": {},
     "output_type": "execute_result"
    }
   ],
   "source": [
    "from typing import List\n",
    "class Solution:\n",
    "    def maxArea(self, heights: List[int]) -> int:\n",
    "        res = 0\n",
    "        l, r = 0, len(heights) - 1\n",
    "        b = r\n",
    "        while l < r:\n",
    "            area = min(heights[l], heights[r]) * (b)\n",
    "            res = max(res, area)\n",
    "            print(\"Area\", area, \"res\", res, \"l: \", l, \"b: \", b, \"r: \", r)\n",
    "\n",
    "            if heights[l] <= heights[r]:\n",
    "                l += 1\n",
    "                b -= 1\n",
    "            else:\n",
    "                r -= 1\n",
    "                b -= 1\n",
    "        return res\n",
    "\n",
    "        \n",
    "sol = Solution()\n",
    "print(sol.maxArea([2, 2, 2]), '\\n')\n",
    "sol.maxArea([1,7,2,5,4,7,3,6])"
   ]
  },
  {
   "cell_type": "code",
   "execution_count": null,
   "id": "77f66fd7",
   "metadata": {},
   "outputs": [],
   "source": []
  }
 ],
 "metadata": {
  "kernelspec": {
   "display_name": "Python 3",
   "language": "python",
   "name": "python3"
  },
  "language_info": {
   "codemirror_mode": {
    "name": "ipython",
    "version": 3
   },
   "file_extension": ".py",
   "mimetype": "text/x-python",
   "name": "python",
   "nbconvert_exporter": "python",
   "pygments_lexer": "ipython3",
   "version": "3.12.1"
  }
 },
 "nbformat": 4,
 "nbformat_minor": 5
}

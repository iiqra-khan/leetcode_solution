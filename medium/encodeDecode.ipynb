{
 "cells": [
  {
   "cell_type": "code",
   "execution_count": null,
   "id": "77e13716",
   "metadata": {},
   "outputs": [
    {
     "name": "stdout",
     "output_type": "stream",
     "text": [
      "4#neet4#code4#love3#you\n"
     ]
    },
    {
     "data": {
      "text/plain": [
       "['neet', 'code', 'love', 'you']"
      ]
     },
     "execution_count": 1,
     "metadata": {},
     "output_type": "execute_result"
    }
   ],
   "source": [
    "from typing import List\n",
    "\n",
    "class Solution:\n",
    "\n",
    "    def encode(self, strs: List[str]) -> str:\n",
    "        output = \"\"\n",
    "        for s in  strs:\n",
    "            output = output + str(len(s)) + '#' + s\n",
    "        print(output)\n",
    "        return output\n",
    "\n",
    "    def decode(self, s: str) -> List[str]:\n",
    "        decoded = []\n",
    "        i = 0\n",
    "        while i < len(s):\n",
    "            j = i\n",
    "            while s[j] != '#':\n",
    "                j += 1\n",
    "            length = int((s[i:j]))\n",
    "            i = j + 1\n",
    "            j = i + length\n",
    "            decoded.append(s[i:j]) \n",
    "            i = j\n",
    "        return decoded\n",
    "            \n",
    "sol = Solution()\n",
    "encoded = sol.encode([\"neet\",\"code\",\"love\",\"you\"])\n",
    "sol.decode(encoded)"
   ]
  },
  {
   "cell_type": "code",
   "execution_count": null,
   "id": "c8de3d33",
   "metadata": {},
   "outputs": [],
   "source": [
    "\n",
    "            # print('c', c)\n",
    "            # if c.isnumeric():\n",
    "            #     length = int(c)\n",
    "            #     continue\n",
    "            # elif c == '#':\n",
    "            #     continue\n",
    "            # else:\n",
    "            #     string += c\n",
    "            #     length -= 1\n",
    "            #     if length == 0:\n",
    "            #         decoded.append(string)\n",
    "            #         string = ''\n",
    "        # return decoded"
   ]
  }
 ],
 "metadata": {
  "kernelspec": {
   "display_name": "Python 3",
   "language": "python",
   "name": "python3"
  },
  "language_info": {
   "codemirror_mode": {
    "name": "ipython",
    "version": 3
   },
   "file_extension": ".py",
   "mimetype": "text/x-python",
   "name": "python",
   "nbconvert_exporter": "python",
   "pygments_lexer": "ipython3",
   "version": "3.12.1"
  }
 },
 "nbformat": 4,
 "nbformat_minor": 5
}

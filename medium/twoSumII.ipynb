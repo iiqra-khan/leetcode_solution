{
 "cells": [
  {
   "cell_type": "code",
   "execution_count": 1,
   "id": "a6e60a33",
   "metadata": {},
   "outputs": [
    {
     "data": {
      "text/plain": [
       "[2, 7]"
      ]
     },
     "execution_count": 1,
     "metadata": {},
     "output_type": "execute_result"
    }
   ],
   "source": [
    "from typing import List\n",
    "class Solution:\n",
    "    def twoSum(self, numbers: List[int], target: int) -> List[int]:\n",
    "        numbers.sort()\n",
    "        l = 0\n",
    "        r = len(numbers) - 1\n",
    "\n",
    "        while l < r:\n",
    "            s = numbers[l] + numbers[r]\n",
    "\n",
    "            if s < target:\n",
    "                l += 1\n",
    "            elif s > target:\n",
    "                r -=1\n",
    "            else:\n",
    "                return [l + 1, r + 1]\n",
    "        return []\n",
    "\n",
    "\n",
    "\n",
    "\n",
    "sol = Solution()\n",
    "sol.twoSum([-5,-3,0,2,4,6,8], 5)"
   ]
  },
  {
   "cell_type": "code",
   "execution_count": null,
   "id": "6081d498",
   "metadata": {},
   "outputs": [],
   "source": []
  }
 ],
 "metadata": {
  "kernelspec": {
   "display_name": "Python 3",
   "language": "python",
   "name": "python3"
  },
  "language_info": {
   "codemirror_mode": {
    "name": "ipython",
    "version": 3
   },
   "file_extension": ".py",
   "mimetype": "text/x-python",
   "name": "python",
   "nbconvert_exporter": "python",
   "pygments_lexer": "ipython3",
   "version": "3.12.1"
  }
 },
 "nbformat": 4,
 "nbformat_minor": 5
}
